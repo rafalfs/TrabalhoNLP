{
  "nbformat": 4,
  "nbformat_minor": 0,
  "metadata": {
    "colab": {
      "name": "Projeto de PLN.ipynb",
      "version": "0.3.2",
      "provenance": [],
      "collapsed_sections": []
    },
    "kernelspec": {
      "name": "python3",
      "display_name": "Python 3"
    }
  },
  "cells": [
    {
      "metadata": {
        "id": "0XkYIDM8FfXM",
        "colab_type": "text"
      },
      "cell_type": "markdown",
      "source": [
        "# Projeto\n",
        "\n",
        "Utilizando o dataset de revisões de filmes em português (baixado com ajuda do código abaixo), criar um classificador de sentimentos que consiga um score na métrica **F1 Score** superior a 70%.\n",
        "\n",
        "Fique a vontade para testar métodos de pré-processamento, abordagens, algoritmos e bibliotecas, mas explique e justifique suas decisões.\n",
        "\n",
        "O trabalho poderá ser feito em grupo (mesmos grupos do Startup One).\n",
        "\n",
        "A data de entrega é dia 08/02/2019 até as 23:59 horas,\n"
      ]
    },
    {
      "metadata": {
        "id": "gwfNmoycGxAv",
        "colab_type": "code",
        "colab": {
          "base_uri": "https://localhost:8080/",
          "height": 300
        },
        "outputId": "f7f27aba-42fa-4913-cb2d-078739232cc2"
      },
      "cell_type": "code",
      "source": [
        "import pandas as pd\n",
        "\n",
        "df = pd.read_csv(\"https://storage.googleapis.com/buck-12/imdb-reviews-pt-br.csv\", delimiter=\",\", encoding='utf-8')\n",
        "\n",
        "df.describe()"
      ],
      "execution_count": 37,
      "outputs": [
        {
          "output_type": "execute_result",
          "data": {
            "text/html": [
              "<div>\n",
              "<style scoped>\n",
              "    .dataframe tbody tr th:only-of-type {\n",
              "        vertical-align: middle;\n",
              "    }\n",
              "\n",
              "    .dataframe tbody tr th {\n",
              "        vertical-align: top;\n",
              "    }\n",
              "\n",
              "    .dataframe thead th {\n",
              "        text-align: right;\n",
              "    }\n",
              "</style>\n",
              "<table border=\"1\" class=\"dataframe\">\n",
              "  <thead>\n",
              "    <tr style=\"text-align: right;\">\n",
              "      <th></th>\n",
              "      <th>id</th>\n",
              "    </tr>\n",
              "  </thead>\n",
              "  <tbody>\n",
              "    <tr>\n",
              "      <th>count</th>\n",
              "      <td>49459.000000</td>\n",
              "    </tr>\n",
              "    <tr>\n",
              "      <th>mean</th>\n",
              "      <td>24730.960917</td>\n",
              "    </tr>\n",
              "    <tr>\n",
              "      <th>std</th>\n",
              "      <td>14277.792868</td>\n",
              "    </tr>\n",
              "    <tr>\n",
              "      <th>min</th>\n",
              "      <td>1.000000</td>\n",
              "    </tr>\n",
              "    <tr>\n",
              "      <th>25%</th>\n",
              "      <td>12366.500000</td>\n",
              "    </tr>\n",
              "    <tr>\n",
              "      <th>50%</th>\n",
              "      <td>24731.000000</td>\n",
              "    </tr>\n",
              "    <tr>\n",
              "      <th>75%</th>\n",
              "      <td>37095.500000</td>\n",
              "    </tr>\n",
              "    <tr>\n",
              "      <th>max</th>\n",
              "      <td>49460.000000</td>\n",
              "    </tr>\n",
              "  </tbody>\n",
              "</table>\n",
              "</div>"
            ],
            "text/plain": [
              "                 id\n",
              "count  49459.000000\n",
              "mean   24730.960917\n",
              "std    14277.792868\n",
              "min        1.000000\n",
              "25%    12366.500000\n",
              "50%    24731.000000\n",
              "75%    37095.500000\n",
              "max    49460.000000"
            ]
          },
          "metadata": {
            "tags": []
          },
          "execution_count": 37
        }
      ]
    },
    {
      "metadata": {
        "id": "dV2YNU4Y0bNC",
        "colab_type": "code",
        "colab": {
          "base_uri": "https://localhost:8080/",
          "height": 206
        },
        "outputId": "94947d26-733b-4469-8d20-27a05eb40d11"
      },
      "cell_type": "code",
      "source": [
        "df.head(5)"
      ],
      "execution_count": 23,
      "outputs": [
        {
          "output_type": "execute_result",
          "data": {
            "text/html": [
              "<div>\n",
              "<style scoped>\n",
              "    .dataframe tbody tr th:only-of-type {\n",
              "        vertical-align: middle;\n",
              "    }\n",
              "\n",
              "    .dataframe tbody tr th {\n",
              "        vertical-align: top;\n",
              "    }\n",
              "\n",
              "    .dataframe thead th {\n",
              "        text-align: right;\n",
              "    }\n",
              "</style>\n",
              "<table border=\"1\" class=\"dataframe\">\n",
              "  <thead>\n",
              "    <tr style=\"text-align: right;\">\n",
              "      <th></th>\n",
              "      <th>id</th>\n",
              "      <th>text_en</th>\n",
              "      <th>text_pt</th>\n",
              "      <th>sentiment</th>\n",
              "    </tr>\n",
              "  </thead>\n",
              "  <tbody>\n",
              "    <tr>\n",
              "      <th>0</th>\n",
              "      <td>1</td>\n",
              "      <td>Once again Mr. Costner has dragged out a movie...</td>\n",
              "      <td>Mais uma vez, o Sr. Costner arrumou um filme p...</td>\n",
              "      <td>neg</td>\n",
              "    </tr>\n",
              "    <tr>\n",
              "      <th>1</th>\n",
              "      <td>2</td>\n",
              "      <td>This is an example of why the majority of acti...</td>\n",
              "      <td>Este é um exemplo do motivo pelo qual a maiori...</td>\n",
              "      <td>neg</td>\n",
              "    </tr>\n",
              "    <tr>\n",
              "      <th>2</th>\n",
              "      <td>3</td>\n",
              "      <td>First of all I hate those moronic rappers, who...</td>\n",
              "      <td>Primeiro de tudo eu odeio esses raps imbecis, ...</td>\n",
              "      <td>neg</td>\n",
              "    </tr>\n",
              "    <tr>\n",
              "      <th>3</th>\n",
              "      <td>4</td>\n",
              "      <td>Not even the Beatles could write songs everyon...</td>\n",
              "      <td>Nem mesmo os Beatles puderam escrever músicas ...</td>\n",
              "      <td>neg</td>\n",
              "    </tr>\n",
              "    <tr>\n",
              "      <th>4</th>\n",
              "      <td>5</td>\n",
              "      <td>Brass pictures movies is not a fitting word fo...</td>\n",
              "      <td>Filmes de fotos de latão não é uma palavra apr...</td>\n",
              "      <td>neg</td>\n",
              "    </tr>\n",
              "  </tbody>\n",
              "</table>\n",
              "</div>"
            ],
            "text/plain": [
              "   id                                            text_en  \\\n",
              "0   1  Once again Mr. Costner has dragged out a movie...   \n",
              "1   2  This is an example of why the majority of acti...   \n",
              "2   3  First of all I hate those moronic rappers, who...   \n",
              "3   4  Not even the Beatles could write songs everyon...   \n",
              "4   5  Brass pictures movies is not a fitting word fo...   \n",
              "\n",
              "                                             text_pt sentiment  \n",
              "0  Mais uma vez, o Sr. Costner arrumou um filme p...       neg  \n",
              "1  Este é um exemplo do motivo pelo qual a maiori...       neg  \n",
              "2  Primeiro de tudo eu odeio esses raps imbecis, ...       neg  \n",
              "3  Nem mesmo os Beatles puderam escrever músicas ...       neg  \n",
              "4  Filmes de fotos de latão não é uma palavra apr...       neg  "
            ]
          },
          "metadata": {
            "tags": []
          },
          "execution_count": 23
        }
      ]
    },
    {
      "metadata": {
        "id": "AVVZuQdn2RSo",
        "colab_type": "text"
      },
      "cell_type": "markdown",
      "source": [
        "Embaralhamos os dados para tentar garantir que exista a mesma quantidade de avaliações positivas e negarivas para treino e teste. Em seguida ajustamos para que positivo seja considerado 1 e negativo 0 e removemos as stopwords dos textos"
      ]
    },
    {
      "metadata": {
        "id": "lv4PUQZOqPnT",
        "colab_type": "code",
        "colab": {
          "base_uri": "https://localhost:8080/",
          "height": 243
        },
        "outputId": "22c80096-13c0-4a9f-9580-d6bbc86c3df4"
      },
      "cell_type": "code",
      "source": [
        "import nltk\n",
        "\n",
        "df = df.sample(frac=1).reset_index(drop=True)\n",
        "df['sentiment'] = df['sentiment'].map({'pos': 1, 'neg': 0, 1: 1, 0: 0})\n",
        "\n",
        "nltk.download('stopwords')\n",
        "stopwords = nltk.corpus.stopwords.words('portuguese')\n",
        "\n",
        "def removerStopwords(frase):\n",
        "  lista_frase = frase.split()\n",
        "  result = [palavra for palavra in lista_frase if palavra.lower() not in stopwords]\n",
        "  return ' '.join(result)\n",
        "\n",
        "df.text_pt = df.text_pt.apply(removerStopwords)\n",
        "\n",
        "df.head(5)"
      ],
      "execution_count": 45,
      "outputs": [
        {
          "output_type": "stream",
          "text": [
            "[nltk_data] Downloading package stopwords to /root/nltk_data...\n",
            "[nltk_data]   Package stopwords is already up-to-date!\n"
          ],
          "name": "stdout"
        },
        {
          "output_type": "execute_result",
          "data": {
            "text/html": [
              "<div>\n",
              "<style scoped>\n",
              "    .dataframe tbody tr th:only-of-type {\n",
              "        vertical-align: middle;\n",
              "    }\n",
              "\n",
              "    .dataframe tbody tr th {\n",
              "        vertical-align: top;\n",
              "    }\n",
              "\n",
              "    .dataframe thead th {\n",
              "        text-align: right;\n",
              "    }\n",
              "</style>\n",
              "<table border=\"1\" class=\"dataframe\">\n",
              "  <thead>\n",
              "    <tr style=\"text-align: right;\">\n",
              "      <th></th>\n",
              "      <th>id</th>\n",
              "      <th>text_en</th>\n",
              "      <th>text_pt</th>\n",
              "      <th>sentiment</th>\n",
              "    </tr>\n",
              "  </thead>\n",
              "  <tbody>\n",
              "    <tr>\n",
              "      <th>0</th>\n",
              "      <td>18555</td>\n",
              "      <td>For those of you who like stand-up comedians y...</td>\n",
              "      <td>gostam comediantes, deve ter ouvido falar Geor...</td>\n",
              "      <td>1</td>\n",
              "    </tr>\n",
              "    <tr>\n",
              "      <th>1</th>\n",
              "      <td>13835</td>\n",
              "      <td>The film is partly a thriller and partly a pub...</td>\n",
              "      <td>filme é parte thriller parte anúncio serviço p...</td>\n",
              "      <td>1</td>\n",
              "    </tr>\n",
              "    <tr>\n",
              "      <th>2</th>\n",
              "      <td>30527</td>\n",
              "      <td>Im a true fan of the original Cracker series, ...</td>\n",
              "      <td>verdadeiro fã série original Cracker possuo to...</td>\n",
              "      <td>0</td>\n",
              "    </tr>\n",
              "    <tr>\n",
              "      <th>3</th>\n",
              "      <td>31039</td>\n",
              "      <td>Dane tries to hard and is to extreme with all ...</td>\n",
              "      <td>Dane tenta esforçar vai extremo todos gritos e...</td>\n",
              "      <td>0</td>\n",
              "    </tr>\n",
              "    <tr>\n",
              "      <th>4</th>\n",
              "      <td>634</td>\n",
              "      <td>This movie is funny if youre the gentleman who...</td>\n",
              "      <td>filme é engraçado é cavalheiro sentado três fi...</td>\n",
              "      <td>0</td>\n",
              "    </tr>\n",
              "  </tbody>\n",
              "</table>\n",
              "</div>"
            ],
            "text/plain": [
              "      id                                            text_en  \\\n",
              "0  18555  For those of you who like stand-up comedians y...   \n",
              "1  13835  The film is partly a thriller and partly a pub...   \n",
              "2  30527  Im a true fan of the original Cracker series, ...   \n",
              "3  31039  Dane tries to hard and is to extreme with all ...   \n",
              "4    634  This movie is funny if youre the gentleman who...   \n",
              "\n",
              "                                             text_pt  sentiment  \n",
              "0  gostam comediantes, deve ter ouvido falar Geor...          1  \n",
              "1  filme é parte thriller parte anúncio serviço p...          1  \n",
              "2  verdadeiro fã série original Cracker possuo to...          0  \n",
              "3  Dane tenta esforçar vai extremo todos gritos e...          0  \n",
              "4  filme é engraçado é cavalheiro sentado três fi...          0  "
            ]
          },
          "metadata": {
            "tags": []
          },
          "execution_count": 45
        }
      ]
    },
    {
      "metadata": {
        "id": "xJYW4d7x1BVz",
        "colab_type": "text"
      },
      "cell_type": "markdown",
      "source": [
        "Separamos os dados para treino e teste e utilizamos 30% para teste"
      ]
    },
    {
      "metadata": {
        "id": "HUcbmls_1VWU",
        "colab_type": "code",
        "colab": {}
      },
      "cell_type": "code",
      "source": [
        "from sklearn.model_selection import train_test_split\n",
        "\n",
        "X = df.text_pt\n",
        "y = df.sentiment\n",
        "X_train, X_test, y_train, y_test = train_test_split(X, y, test_size=0.3, random_state=42)"
      ],
      "execution_count": 0,
      "outputs": []
    },
    {
      "metadata": {
        "id": "qZL0QGV01E5r",
        "colab_type": "text"
      },
      "cell_type": "markdown",
      "source": [
        "Treinamos um modelo linear SVC para realizar a analise de sentimento. Fizemos os testes utilizando vetorização com unigrama, bigrama e trigrama"
      ]
    },
    {
      "metadata": {
        "id": "iWrLvdMK1h2A",
        "colab_type": "code",
        "colab": {
          "base_uri": "https://localhost:8080/",
          "height": 54
        },
        "outputId": "bb9f417d-fc16-4dc8-9fa8-3b9946cbc524"
      },
      "cell_type": "code",
      "source": [
        "from sklearn.metrics import f1_score\n",
        "from sklearn.svm import LinearSVC\n",
        "from sklearn.feature_extraction.text import CountVectorizer\n",
        "\n",
        "\n",
        "# Vetoriza os textos\n",
        "vect = CountVectorizer(ngram_range=(1,1))\n",
        "\n",
        "training_features = vect.fit_transform(X_train)    \n",
        "test_features = vect.transform(X_test)\n",
        "\n",
        "# Treina um modelo SVC\n",
        "modelUni = LinearSVC()\n",
        "modelUni.fit(training_features, y_train)\n",
        "y_predUni = modelUni.predict(test_features)"
      ],
      "execution_count": 53,
      "outputs": [
        {
          "output_type": "stream",
          "text": [
            "/usr/local/lib/python3.6/dist-packages/sklearn/svm/base.py:931: ConvergenceWarning: Liblinear failed to converge, increase the number of iterations.\n",
            "  \"the number of iterations.\", ConvergenceWarning)\n"
          ],
          "name": "stderr"
        }
      ]
    },
    {
      "metadata": {
        "id": "nqa46D8u1h_y",
        "colab_type": "code",
        "colab": {
          "base_uri": "https://localhost:8080/",
          "height": 54
        },
        "outputId": "e2b48642-f15d-474d-ce01-29b556befcbc"
      },
      "cell_type": "code",
      "source": [
        "# Vetoriza os textos\n",
        "vect = CountVectorizer(ngram_range=(1,2))\n",
        "\n",
        "training_features = vect.fit_transform(X_train)    \n",
        "test_features = vect.transform(X_test)\n",
        "\n",
        "# Treina um modelo SVC\n",
        "modelBi = LinearSVC()\n",
        "modelBi.fit(training_features, y_train)\n",
        "y_predBi = modelBi.predict(test_features)"
      ],
      "execution_count": 54,
      "outputs": [
        {
          "output_type": "stream",
          "text": [
            "/usr/local/lib/python3.6/dist-packages/sklearn/svm/base.py:931: ConvergenceWarning: Liblinear failed to converge, increase the number of iterations.\n",
            "  \"the number of iterations.\", ConvergenceWarning)\n"
          ],
          "name": "stderr"
        }
      ]
    },
    {
      "metadata": {
        "id": "-xJcSsMdeCAt",
        "colab_type": "code",
        "colab": {
          "base_uri": "https://localhost:8080/",
          "height": 54
        },
        "outputId": "24769669-75c3-43cc-beab-fd0991918147"
      },
      "cell_type": "code",
      "source": [
        "# Vetoriza os textos\n",
        "vect = CountVectorizer(ngram_range=(1,3))\n",
        "\n",
        "training_features = vect.fit_transform(X_train)    \n",
        "test_features = vect.transform(X_test)\n",
        "\n",
        "# Treina um modelo SVC\n",
        "modelTri = LinearSVC()\n",
        "modelTri.fit(training_features, y_train)\n",
        "y_predTri = modelTri.predict(test_features)"
      ],
      "execution_count": 55,
      "outputs": [
        {
          "output_type": "stream",
          "text": [
            "/usr/local/lib/python3.6/dist-packages/sklearn/svm/base.py:931: ConvergenceWarning: Liblinear failed to converge, increase the number of iterations.\n",
            "  \"the number of iterations.\", ConvergenceWarning)\n"
          ],
          "name": "stderr"
        }
      ]
    },
    {
      "metadata": {
        "id": "FZrhmXaGowQd",
        "colab_type": "code",
        "colab": {
          "base_uri": "https://localhost:8080/",
          "height": 72
        },
        "outputId": "3dbba34e-5f79-41c8-e75f-92a9f8db2bc5"
      },
      "cell_type": "code",
      "source": [
        "# F1 Score\n",
        "\n",
        "f1Uni = f1_score(y_test, y_predUni)\n",
        "f1Bi = f1_score(y_test, y_predBi)\n",
        "f1Tri = f1_score(y_test, y_predTri)\n",
        "print(\"F1 Score com unigrama: {:.2f}\".format(f1Uni))\n",
        "print(\"F1 Score com bigrama: {:.2f}\".format(f1Bi))\n",
        "print(\"F1 Score com trigrama: {:.2f}\".format(f1Tri))"
      ],
      "execution_count": 56,
      "outputs": [
        {
          "output_type": "stream",
          "text": [
            "F1 Score com unigrama: 0.86\n",
            "F1 Score com bigrama: 0.89\n",
            "F1 Score com trigrama: 0.89\n"
          ],
          "name": "stdout"
        }
      ]
    }
  ]
}